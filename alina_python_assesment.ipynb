{
  "nbformat": 4,
  "nbformat_minor": 0,
  "metadata": {
    "colab": {
      "provenance": []
    },
    "kernelspec": {
      "name": "python3",
      "display_name": "Python 3"
    },
    "language_info": {
      "name": "python"
    }
  },
  "cells": [
    {
      "cell_type": "code",
      "execution_count": 1,
      "metadata": {
        "colab": {
          "base_uri": "https://localhost:8080/"
        },
        "id": "L1pf4YqgJ-j6",
        "outputId": "b4a38c78-fc36-42c6-c3b9-4f12bc3a6248"
      },
      "outputs": [
        {
          "output_type": "stream",
          "name": "stdout",
          "text": [
            "34 is the maximum\n"
          ]
        }
      ],
      "source": [
        "#2Write a Python function to find the maximum of three numbers Sample input:34,12,7 Sample output: 34'''\n",
        "a = 34\n",
        "b = 12\n",
        "c = 7\n",
        "if a>b and a>c:\n",
        "  print(a,'is the maximum')\n",
        "elif b>a and b>c:\n",
        "  print(b,'is the maximum')\n",
        "else:\n",
        "  print(c,'is the greatest')"
      ]
    },
    {
      "cell_type": "code",
      "source": [
        "#4Write a Python function that takes a positive integer and returns the sum of the cube of all the positive integers smaller than the specified number.\n",
        "def sum(x):\n",
        "  sum = 0\n",
        "  for i in range(1, x):\n",
        "    sum += i**3\n",
        "  return sum\n",
        "\n",
        "print(sum(4))"
      ],
      "metadata": {
        "colab": {
          "base_uri": "https://localhost:8080/"
        },
        "id": "qZZXJEhoMgvX",
        "outputId": "51d175c9-08ce-4d82-e8ab-c86c212c3aa1"
      },
      "execution_count": 14,
      "outputs": [
        {
          "output_type": "stream",
          "name": "stdout",
          "text": [
            "36\n"
          ]
        }
      ]
    },
    {
      "cell_type": "code",
      "source": [
        "#5Write a Python program which iterates from 1 to 10. For multiples of 2, print “Fizz” instead of the number and for the multiples of 5, print “Buzz”. For numbers which are multiples of both 2 and 5, print “FizzBuzz”. Sample input: numbers from 1 to 10\n",
        "for num in range(1,11):\n",
        "  if(num%2==0 and num%5==0):\n",
        "    print('fizzbuzz')\n",
        "  elif(num%2==0):\n",
        "    print('fizz')\n",
        "  elif(num%5==0):\n",
        "    print('buzz')\n",
        "  else:\n",
        "    print(num)\n",
        ""
      ],
      "metadata": {
        "colab": {
          "base_uri": "https://localhost:8080/"
        },
        "id": "y5mTRNJKN5Jv",
        "outputId": "b1d66381-7faf-49d5-f1d2-4110cf8ef439"
      },
      "execution_count": 3,
      "outputs": [
        {
          "output_type": "stream",
          "name": "stdout",
          "text": [
            "1\n",
            "fizz\n",
            "3\n",
            "fizz\n",
            "buzz\n",
            "fizz\n",
            "7\n",
            "fizz\n",
            "9\n",
            "fizzbuzz\n"
          ]
        }
      ]
    },
    {
      "cell_type": "code",
      "source": [
        "#7Write a Python function to find the sum of squares of the numbers in a list\n",
        "s = 0\n",
        "l1 = [2,1,3,1]\n",
        "for n in l1:\n",
        "  s = s+n*n\n",
        "  print(s)"
      ],
      "metadata": {
        "colab": {
          "base_uri": "https://localhost:8080/"
        },
        "id": "SfN-VxZzVaWn",
        "outputId": "9bbde995-bbe1-4e2a-8159-044eb8767743"
      },
      "execution_count": 13,
      "outputs": [
        {
          "output_type": "stream",
          "name": "stdout",
          "text": [
            "4\n",
            "5\n",
            "14\n",
            "15\n"
          ]
        }
      ]
    },
    {
      "cell_type": "code",
      "source": [
        "#8Write a Python program using for loop that will iterate from 1 to 15. For each iteration, check if the current number is odd or even, and display the message to the screen as odd or even.\n",
        "l1= [1,2,3,4,5,6,7,8,9,10,11,12,13,14,15]\n",
        "even=[]\n",
        "odd=[]\n",
        "while len(l1)>0:\n",
        "  l=l1.pop()\n",
        "  if l%2==0:\n",
        "    even.append(l)\n",
        "  else:\n",
        "      odd.append(l)\n",
        "print(even)\n",
        "print(odd)"
      ],
      "metadata": {
        "colab": {
          "base_uri": "https://localhost:8080/"
        },
        "id": "PfoRCqtpYwht",
        "outputId": "6b957b42-4044-4aca-deb2-9d9d7222f834"
      },
      "execution_count": 13,
      "outputs": [
        {
          "output_type": "stream",
          "name": "stdout",
          "text": [
            "[14, 12, 10, 8, 6, 4, 2]\n",
            "[15, 13, 11, 9, 7, 5, 3, 1]\n"
          ]
        }
      ]
    },
    {
      "cell_type": "code",
      "source": [
        "#1Write a Python function to accept a string value from the user and display the count of each character in that string. Sample input: Enter a string value:\n",
        "string = input(\"Enter a string: \")\n",
        "l1 = ['a','s','e','m','b','l','y']\n",
        "for char in string:\n",
        "    if char not in l1:\n",
        "        l1.append(char)\n",
        "for item in l1:\n",
        " print(item,string.count(item), sep = \"=\")"
      ],
      "metadata": {
        "colab": {
          "base_uri": "https://localhost:8080/"
        },
        "id": "in-oJqjvb_-9",
        "outputId": "c0912d5e-3fc4-4b41-c0a2-c31775434959"
      },
      "execution_count": 6,
      "outputs": [
        {
          "output_type": "stream",
          "name": "stdout",
          "text": [
            "Enter a string: asembly\n",
            "a=1\n",
            "s=1\n",
            "e=1\n",
            "m=1\n",
            "b=1\n",
            "l=1\n",
            "y=1\n"
          ]
        }
      ]
    },
    {
      "cell_type": "code",
      "source": [
        "#3Write a Python function called exponent(base,exp) that returns an integer value of base raises to the power of exp.\n",
        "base = float(input('enter the base:'))\n",
        "exponent = float(input('enter the exponent:'))\n",
        "int = base**exponent\n",
        "print('int value:',base**exponent)"
      ],
      "metadata": {
        "colab": {
          "base_uri": "https://localhost:8080/"
        },
        "id": "wulFWHDogZuf",
        "outputId": "a6d360e9-b551-4288-e20d-d8f1ce5d269e"
      },
      "execution_count": 9,
      "outputs": [
        {
          "output_type": "stream",
          "name": "stdout",
          "text": [
            "enter the base:3\n",
            "enter the exponent:4\n",
            "int value: 81.0\n"
          ]
        }
      ]
    },
    {
      "cell_type": "code",
      "source": [
        "#6Write a Python function to find the most frequent item in a list of numbers'''\n"
      ],
      "metadata": {
        "colab": {
          "base_uri": "https://localhost:8080/",
          "height": 297
        },
        "id": "gpcyE7pcka-3",
        "outputId": "9d752551-02a7-49ed-df67-5a1ec82ab554"
      },
      "execution_count": 2,
      "outputs": [
        {
          "output_type": "error",
          "ename": "NameError",
          "evalue": "name 'num' is not defined",
          "traceback": [
            "\u001b[0;31m---------------------------------------------------------------------------\u001b[0m",
            "\u001b[0;31mNameError\u001b[0m                                 Traceback (most recent call last)",
            "\u001b[0;32m<ipython-input-2-ac69af76aecb>\u001b[0m in \u001b[0;36m<cell line: 12>\u001b[0;34m()\u001b[0m\n\u001b[1;32m     10\u001b[0m        \u001b[0mfact\u001b[0m\u001b[0;34m+=\u001b[0m\u001b[0mi\u001b[0m\u001b[0;34m\u001b[0m\u001b[0;34m\u001b[0m\u001b[0m\n\u001b[1;32m     11\u001b[0m    \u001b[0mprint\u001b[0m\u001b[0;34m(\u001b[0m\u001b[0;34m\"The factorial of\"\u001b[0m\u001b[0;34m,\u001b[0m\u001b[0mx\u001b[0m\u001b[0;34m,\u001b[0m\u001b[0;34m\"is\"\u001b[0m\u001b[0;34m,\u001b[0m\u001b[0mfact\u001b[0m\u001b[0;34m)\u001b[0m\u001b[0;34m\u001b[0m\u001b[0;34m\u001b[0m\u001b[0m\n\u001b[0;32m---> 12\u001b[0;31m \u001b[0mfactorial\u001b[0m\u001b[0;34m(\u001b[0m\u001b[0;36m3\u001b[0m\u001b[0;34m)\u001b[0m\u001b[0;34m\u001b[0m\u001b[0;34m\u001b[0m\u001b[0m\n\u001b[0m",
            "\u001b[0;32m<ipython-input-2-ac69af76aecb>\u001b[0m in \u001b[0;36mfactorial\u001b[0;34m(x)\u001b[0m\n\u001b[1;32m      4\u001b[0m   \u001b[0;32mif\u001b[0m \u001b[0mx\u001b[0m\u001b[0;34m<\u001b[0m\u001b[0;36m0\u001b[0m\u001b[0;34m:\u001b[0m\u001b[0;34m\u001b[0m\u001b[0;34m\u001b[0m\u001b[0m\n\u001b[1;32m      5\u001b[0m     \u001b[0mprint\u001b[0m\u001b[0;34m(\u001b[0m\u001b[0;34m\"Sorry, factorial does not exist for negative numbers\"\u001b[0m\u001b[0;34m)\u001b[0m\u001b[0;34m\u001b[0m\u001b[0;34m\u001b[0m\u001b[0m\n\u001b[0;32m----> 6\u001b[0;31m   \u001b[0;32melif\u001b[0m \u001b[0mnum\u001b[0m \u001b[0;34m==\u001b[0m \u001b[0;36m0\u001b[0m\u001b[0;34m:\u001b[0m\u001b[0;34m\u001b[0m\u001b[0;34m\u001b[0m\u001b[0m\n\u001b[0m\u001b[1;32m      7\u001b[0m    \u001b[0mprint\u001b[0m\u001b[0;34m(\u001b[0m\u001b[0;34m\"The factorial of 0 is 1\"\u001b[0m\u001b[0;34m)\u001b[0m\u001b[0;34m\u001b[0m\u001b[0;34m\u001b[0m\u001b[0m\n\u001b[1;32m      8\u001b[0m   \u001b[0;32melse\u001b[0m\u001b[0;34m:\u001b[0m\u001b[0;34m\u001b[0m\u001b[0;34m\u001b[0m\u001b[0m\n",
            "\u001b[0;31mNameError\u001b[0m: name 'num' is not defined"
          ]
        }
      ]
    },
    {
      "cell_type": "code",
      "source": [
        "#9Write a Python function to convert temperatures to and from Celsius Fahrenheit'''\n",
        "a = int(input('enter the temperature: '))\n",
        "F = (a*9/5)+32\n",
        "print ('Celsious to Farenheit: ',(F))"
      ],
      "metadata": {
        "colab": {
          "base_uri": "https://localhost:8080/"
        },
        "id": "uFkFv0oLkwA4",
        "outputId": "e53bca1e-2af6-45a2-9826-ddddfafb7a17"
      },
      "execution_count": 18,
      "outputs": [
        {
          "output_type": "stream",
          "name": "stdout",
          "text": [
            "enter the temperature: 32\n",
            "Celsious to Farenheit:  89.6\n"
          ]
        }
      ]
    },
    {
      "cell_type": "code",
      "source": [
        "#10Write a Python function to calculate the factorial of a number (a nonnegative integer). The function accepts the number as an argument\n",
        "def factorial(x):\n",
        "  fact = 0\n",
        "  if x<0:\n",
        "    print(\"Sorry, factorial does not exist for negative numbers\")\n",
        "  elif num == 0:\n",
        "   print(\"The factorial of 0 is 1\")\n",
        "  else:\n",
        "   for i in range(1,x+1):\n",
        "       fact+=i\n",
        "   print(\"The factorial of\",x,\"is\",fact)\n",
        "factorial(3)"
      ],
      "metadata": {
        "colab": {
          "base_uri": "https://localhost:8080/",
          "height": 297
        },
        "id": "S7GOIJDOlF1r",
        "outputId": "e817e59a-0c88-4ea2-a1b3-52af1c7365c9"
      },
      "execution_count": 12,
      "outputs": [
        {
          "output_type": "error",
          "ename": "NameError",
          "evalue": "name 'num' is not defined",
          "traceback": [
            "\u001b[0;31m---------------------------------------------------------------------------\u001b[0m",
            "\u001b[0;31mNameError\u001b[0m                                 Traceback (most recent call last)",
            "\u001b[0;32m<ipython-input-12-83063ec9fece>\u001b[0m in \u001b[0;36m<cell line: 12>\u001b[0;34m()\u001b[0m\n\u001b[1;32m     10\u001b[0m        \u001b[0mfact\u001b[0m\u001b[0;34m+=\u001b[0m\u001b[0mi\u001b[0m\u001b[0;34m\u001b[0m\u001b[0;34m\u001b[0m\u001b[0m\n\u001b[1;32m     11\u001b[0m    \u001b[0mprint\u001b[0m\u001b[0;34m(\u001b[0m\u001b[0;34m\"The factorial of\"\u001b[0m\u001b[0;34m,\u001b[0m\u001b[0mx\u001b[0m\u001b[0;34m,\u001b[0m\u001b[0;34m\"is\"\u001b[0m\u001b[0;34m,\u001b[0m\u001b[0mfact\u001b[0m\u001b[0;34m)\u001b[0m\u001b[0;34m\u001b[0m\u001b[0;34m\u001b[0m\u001b[0m\n\u001b[0;32m---> 12\u001b[0;31m \u001b[0mfactorial\u001b[0m\u001b[0;34m(\u001b[0m\u001b[0;36m3\u001b[0m\u001b[0;34m)\u001b[0m\u001b[0;34m\u001b[0m\u001b[0;34m\u001b[0m\u001b[0m\n\u001b[0m",
            "\u001b[0;32m<ipython-input-12-83063ec9fece>\u001b[0m in \u001b[0;36mfactorial\u001b[0;34m(x)\u001b[0m\n\u001b[1;32m      4\u001b[0m   \u001b[0;32mif\u001b[0m \u001b[0mx\u001b[0m\u001b[0;34m<\u001b[0m\u001b[0;36m0\u001b[0m\u001b[0;34m:\u001b[0m\u001b[0;34m\u001b[0m\u001b[0;34m\u001b[0m\u001b[0m\n\u001b[1;32m      5\u001b[0m     \u001b[0mprint\u001b[0m\u001b[0;34m(\u001b[0m\u001b[0;34m\"Sorry, factorial does not exist for negative numbers\"\u001b[0m\u001b[0;34m)\u001b[0m\u001b[0;34m\u001b[0m\u001b[0;34m\u001b[0m\u001b[0m\n\u001b[0;32m----> 6\u001b[0;31m   \u001b[0;32melif\u001b[0m \u001b[0mnum\u001b[0m \u001b[0;34m==\u001b[0m \u001b[0;36m0\u001b[0m\u001b[0;34m:\u001b[0m\u001b[0;34m\u001b[0m\u001b[0;34m\u001b[0m\u001b[0m\n\u001b[0m\u001b[1;32m      7\u001b[0m    \u001b[0mprint\u001b[0m\u001b[0;34m(\u001b[0m\u001b[0;34m\"The factorial of 0 is 1\"\u001b[0m\u001b[0;34m)\u001b[0m\u001b[0;34m\u001b[0m\u001b[0;34m\u001b[0m\u001b[0m\n\u001b[1;32m      8\u001b[0m   \u001b[0;32melse\u001b[0m\u001b[0;34m:\u001b[0m\u001b[0;34m\u001b[0m\u001b[0;34m\u001b[0m\u001b[0m\n",
            "\u001b[0;31mNameError\u001b[0m: name 'num' is not defined"
          ]
        }
      ]
    },
    {
      "cell_type": "code",
      "source": [
        "#11 case study\n",
        "def select(name,assesment,weght)"
      ],
      "metadata": {
        "id": "qXNA6a7A1HAY"
      },
      "execution_count": null,
      "outputs": []
    }
  ]
}